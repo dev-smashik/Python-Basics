{
 "cells": [
  {
   "cell_type": "markdown",
   "id": "fe67d650",
   "metadata": {},
   "source": [
    "# Python : From Zero to All of Your Basic Needs in Python"
   ]
  },
  {
   "cell_type": "markdown",
   "id": "aa34f517",
   "metadata": {},
   "source": [
    "Name: <b> Sheikh Muhammad Ashik </b>\n",
    "<br>\n",
    "University Of Asia Pacific\n",
    "<br>\n",
    "Department of Computer Science and Engineering\n",
    "<br>\n",
    "Email: dev.smashik@gmail.com\n",
    "<br>\n",
    "Linkedin: https://www.linkedin.com/in/smashik/"
   ]
  },
  {
   "cell_type": "markdown",
   "id": "0921517c",
   "metadata": {},
   "source": [
    "<h2> All about Python Programming </h2>\n",
    "\n",
    "Python is a high-level, interpreted, and general-purpose programming language. It was created by Guido van Rossum and first released in 1991. Python emphasizes readability and simplicity, and it has become one of the most popular programming languages due to its versatility and ease of use.\n",
    "\n",
    "Here are some key characteristics and aspects of Python programming:\n",
    "\n",
    "<b>Readability:<b>\n",
    "\n",
    "Python is designed to be easily readable, with a clean and concise syntax. This readability makes it easier to write and maintain code.\n",
    "    \n",
    "<b>Interpreted Language:<b>\n",
    "\n",
    "Python is an interpreted language, meaning that the source code is executed line by line by an interpreter. This allows for dynamic typing and makes the development process more interactive.\n",
    "    \n",
    "<b>High-Level Language:<b>\n",
    "\n",
    "Python is a high-level language, which means that it abstracts away low-level details like memory management and provides a more user-friendly environment.\n",
    "    \n",
    "<b>Versatility:<b>\n",
    "\n",
    "Python is a versatile language that can be used for various purposes, including web development, data analysis, artificial intelligence, machine learning, automation, scripting, and more.\n",
    "    \n",
    "<b>Object-Oriented Programming (OOP):<b>\n",
    "\n",
    "Python supports object-oriented programming principles, allowing developers to create and use classes and objects for code organization and reusability.\n",
    "    \n",
    "<b>Large Standard Library:<b>\n",
    "\n",
    "Python comes with a large standard library that provides modules and packages for a wide range of tasks. This reduces the need for developers to write code from scratch for common functionalities.\n",
    "\n",
    "<b>Community and Ecosystem:<b>\n",
    "\n",
    "Python has a vibrant and active community of developers. There is a vast ecosystem of third-party libraries and frameworks that enhance Python's capabilities in various domains.\n",
    "Cross-Platform Compatibility:\n",
    "\n",
    "Python is a cross-platform language, meaning that Python code can run on different operating systems without modification.\n",
    "    \n",
    "<b>Open Source:<b>\n",
    "\n",
    "Python is an open-source language, which means that its source code is freely available, and the Python community can contribute to its development and improvement.\n",
    "    \n",
    "<b>Dynamic Typing:<b>\n",
    "\n",
    "Python is dynamically typed, which means that the type of a variable is interpreted during runtime. This provides flexibility but also requires careful attention to variable types.\n",
    "Python's popularity has grown significantly over the years, and it is widely used in various industries and fields. Its simplicity, readability, and extensive community support make it an excellent choice for beginners and experienced developers alike."
   ]
  },
  {
   "cell_type": "markdown",
   "id": "53003925",
   "metadata": {},
   "source": [
    "<h2> Basics of Python</h2>"
   ]
  },
  {
   "cell_type": "markdown",
   "id": "865ddc33",
   "metadata": {},
   "source": [
    "# Print() Function"
   ]
  },
  {
   "cell_type": "markdown",
   "id": "03aa54cc",
   "metadata": {},
   "source": [
    "In Python, the print() function is used to output text or other data to the console. It's a built-in function, and it's commonly used for debugging, displaying information to the user, or just printing the results of a program.\n",
    "<br>\n",
    "<br>\n",
    "<b>Here are some details about print() Functions:<b>"
   ]
  },
  {
   "cell_type": "code",
   "execution_count": 2,
   "id": "5dc0faee",
   "metadata": {},
   "outputs": [
    {
     "name": "stdout",
     "output_type": "stream",
     "text": [
      "Hello, I'm Sheikh Muhammad Ashik and I'm UI/UX Designer, Blogger, Programmer, Hacker, Web Designer and CTF (Capture The Flag Player)\n"
     ]
    }
   ],
   "source": [
    "#Print About My Self\n",
    "print(\"Hello, I'm Sheikh Muhammad Ashik and I'm UI/UX Designer, Blogger, Programmer, Hacker, Web Designer and CTF (Capture The Flag Player)\")"
   ]
  },
  {
   "cell_type": "code",
   "execution_count": 3,
   "id": "43bddc85",
   "metadata": {},
   "outputs": [
    {
     "name": "stdout",
     "output_type": "stream",
     "text": [
      "Hi I'm Sheikh Muhammad Ashik, my age is 24, my phone number is +8801621942031, I'm student of the department of Computer Science and Engineering at University of Asia Pacific in 3rd year 1st semester, my core skills are UI/UX, Programming, Blogging, Hacking, Web Designing and lastly my favorite programming language is Pyhton\n"
     ]
    }
   ],
   "source": [
    "#Printing Multiple Values\n",
    "Name = \"Sheikh Muhammad Ashik\"\n",
    "Age = 24\n",
    "Phone = \"+8801621942031\"\n",
    "University = \"University of Asia Pacific\"\n",
    "Semester = \"3rd year 1st semester\"\n",
    "Department = \"Computer Science and Engineering\"\n",
    "Skills = \"UI/UX, Programming, Blogging, Hacking, Web Designing\"\n",
    "Programming_Language = \"Pyhton\" \n",
    "\n",
    "print(f\"Hi I'm {Name}, my age is {Age}, my phone number is {Phone}, I'm student of the department of {Department} at {University} in {Semester}, my core skills are {Skills} and lastly my favorite programming language is {Programming_Language}\")"
   ]
  },
  {
   "cell_type": "code",
   "execution_count": 8,
   "id": "a84f7f68",
   "metadata": {},
   "outputs": [
    {
     "name": "stdout",
     "output_type": "stream",
     "text": [
      "Value of PI: 3.14\n"
     ]
    }
   ],
   "source": [
    "# Fomate Spicifiers\n",
    "pi = 3.141596745453454364567\n",
    "print(\"Value of PI: {:.2f}\". format(pi)) #This {:.2f} will print the value of pi with two decimal places."
   ]
  },
  {
   "cell_type": "code",
   "execution_count": 12,
   "id": "0f5c0ab1",
   "metadata": {},
   "outputs": [
    {
     "name": "stdout",
     "output_type": "stream",
     "text": [
      "Sheikh,,, Muhammad,,, Ashik,,, 21201118@uap-bd.edu,,, +8801621942031 .... Etc\n"
     ]
    }
   ],
   "source": [
    "# Changing Seperator and end characters\n",
    "print(\"Sheikh\", \"Muhammad\", \"Ashik\", \"21201118@uap-bd.edu\", \"+8801621942031\", sep=',,, ', end=' .... Etc\\n')\n",
    "\n",
    "#sep=',,' - for each "
   ]
  },
  {
   "cell_type": "markdown",
   "id": "e8d5eecc",
   "metadata": {},
   "source": [
    "# Variable assignment"
   ]
  },
  {
   "cell_type": "markdown",
   "id": "a6cfa808",
   "metadata": {},
   "source": [
    "variable assignment is the process of associating a name (variable) with a value.\n",
    "<br>\n",
    "<b>Here are some details about variable assignment in Python:<b>"
   ]
  },
  {
   "cell_type": "markdown",
   "id": "bca64fff",
   "metadata": {},
   "source": [
    "<b>Dynamic Typing<b>\n",
    "<br>\n",
    "    \n",
    "Python is a dynamically typed language, meaning you don't have to explicitly declare the type of a variable. The type of a variable is determined at runtime based on the assigned value."
   ]
  },
  {
   "cell_type": "code",
   "execution_count": 19,
   "id": "6cebff67",
   "metadata": {},
   "outputs": [
    {
     "name": "stdout",
     "output_type": "stream",
     "text": [
      "100 3.1416 Ashik\n"
     ]
    }
   ],
   "source": [
    "x = 100  # Integer\n",
    "y = 3.1416 # Float\n",
    "name = \"Ashik\" # String\n",
    "\n",
    "print(x,y, name)"
   ]
  },
  {
   "cell_type": "code",
   "execution_count": 18,
   "id": "444cd078",
   "metadata": {},
   "outputs": [
    {
     "name": "stdout",
     "output_type": "stream",
     "text": [
      "1 2 3\n"
     ]
    }
   ],
   "source": [
    "#Multiple Assignment\n",
    "\n",
    "a, b, c = 1, 2, 3\n",
    "print(a,b,c)"
   ]
  },
  {
   "cell_type": "markdown",
   "id": "b15afa5e",
   "metadata": {},
   "source": [
    "<b> Swapping Values <b>\n",
    "<br>\n",
    "\n",
    "Python allows you to easily swap values between variables without using a temporary variable:\n",
    "\n",
    "\n",
    "\n",
    "\n"
   ]
  },
  {
   "cell_type": "code",
   "execution_count": 21,
   "id": "1de665ab",
   "metadata": {},
   "outputs": [
    {
     "name": "stdout",
     "output_type": "stream",
     "text": [
      "70 10\n"
     ]
    }
   ],
   "source": [
    "a = 10\n",
    "b = 70\n",
    "\n",
    "a, b = b, a\n",
    "\n",
    "print(a, b)"
   ]
  },
  {
   "cell_type": "markdown",
   "id": "42ce824a",
   "metadata": {},
   "source": [
    "<b>Constants<b>\n",
    "<br>\n",
    "    \n",
    "While Python doesn't have a specific constant keyword, it's a convention to use uppercase names for constants:"
   ]
  },
  {
   "cell_type": "code",
   "execution_count": 22,
   "id": "42c8178c",
   "metadata": {},
   "outputs": [
    {
     "name": "stdout",
     "output_type": "stream",
     "text": [
      "3.1416 9.8\n"
     ]
    }
   ],
   "source": [
    "PI = 3.1416\n",
    "Gravity = 9.8\n",
    "\n",
    "print(PI, Gravity)"
   ]
  },
  {
   "cell_type": "markdown",
   "id": "dbf09c9f",
   "metadata": {},
   "source": [
    "# Python operations"
   ]
  },
  {
   "cell_type": "markdown",
   "id": "513e3fda",
   "metadata": {},
   "source": [
    "various types of operations can be performed, including arithmetic, comparison, logical, bitwise, and more. Here are details about some common types of operations:"
   ]
  },
  {
   "cell_type": "code",
   "execution_count": 27,
   "id": "7da6f139",
   "metadata": {},
   "outputs": [
    {
     "name": "stdout",
     "output_type": "stream",
     "text": [
      "70 30 1000 2.5 2 10 9536743164062500000000000000000000\n"
     ]
    }
   ],
   "source": [
    "#Arithmetic Operations\n",
    "\n",
    "a = 50\n",
    "b = 20\n",
    "\n",
    "addition = a + b\n",
    "subtraction = a - b\n",
    "multiplication = a * b\n",
    "division = a / b\n",
    "floor_division = a // b \n",
    "Modulus = a % b\n",
    "Exponentiation = a**b\n",
    "\n",
    "print(addition, subtraction, multiplication, division, floor_division, Modulus, Exponentiation)"
   ]
  },
  {
   "cell_type": "code",
   "execution_count": 28,
   "id": "b0477843",
   "metadata": {},
   "outputs": [
    {
     "name": "stdout",
     "output_type": "stream",
     "text": [
      "False True False True False True\n"
     ]
    }
   ],
   "source": [
    "# Comparison Operations\n",
    "\n",
    "x = 50\n",
    "y = 70\n",
    "\n",
    "equal = x == y\n",
    "not_equal = x!=y\n",
    "greater_than = x > y\n",
    "less_than = x < y\n",
    "greater_than_or_equal_to =  x >= y\n",
    "less_than_or_equal_to = x <= y\n",
    "\n",
    "print(equal, not_equal, greater_than, less_than, greater_than_or_equal_to, less_than_or_equal_to)"
   ]
  },
  {
   "cell_type": "code",
   "execution_count": 37,
   "id": "2ee19573",
   "metadata": {},
   "outputs": [
    {
     "name": "stdout",
     "output_type": "stream",
     "text": [
      "False True False\n"
     ]
    }
   ],
   "source": [
    "# Logical Operations\n",
    "\n",
    "p = True\n",
    "q = False\n",
    "\n",
    "logical_and = p and q\n",
    "logical_or = p or q\n",
    "logical_not = not p\n",
    "\n",
    "print(logical_and, logical_or,logical_not)"
   ]
  },
  {
   "cell_type": "code",
   "execution_count": 38,
   "id": "35cf3b4d",
   "metadata": {},
   "outputs": [
    {
     "name": "stdout",
     "output_type": "stream",
     "text": [
      "1 7 -6 6 10 2\n"
     ]
    }
   ],
   "source": [
    "# Bitwise Operations\n",
    "\n",
    "a = 5 # binary 101\n",
    "b = 3 # binary 011\n",
    "\n",
    "bitwise_and = a & b\n",
    "bitwise_or = a | b\n",
    "bitwise_not = ~a\n",
    "bitwise_xor = a ^ b\n",
    "left_shift = a << 1\n",
    "right_shift = a >> 1\n",
    "\n",
    "print(bitwise_and, bitwise_or, bitwise_not, bitwise_xor, left_shift, right_shift)"
   ]
  },
  {
   "cell_type": "markdown",
   "id": "b97694a1",
   "metadata": {},
   "source": [
    "& -  Bitwise and <br>\n",
    "| -  Bitwise or <br>\n",
    "~ -  Bitwise not <br>\n",
    "^ -  Bitwise Xor <br>\n",
    "<< - Bitwise Left Shift <br>\n",
    "'>>'   - Bitwise Right Shift <br>\n",
    "\n",
    "Precedence: ~(Highest), << >>, &, ^, |(lowest)"
   ]
  },
  {
   "cell_type": "code",
   "execution_count": 43,
   "id": "912f0ec7",
   "metadata": {},
   "outputs": [
    {
     "name": "stdout",
     "output_type": "stream",
     "text": [
      "5\n"
     ]
    }
   ],
   "source": [
    "x = 5\n",
    "y = 4\n",
    "z = 3\n",
    "\n",
    "# Precedence: ~(Highest), << >>, &, ^, |(lowest)\n",
    "ans = x & y | z >> 1\n",
    "print(ans)"
   ]
  },
  {
   "cell_type": "markdown",
   "id": "bb59d4e9",
   "metadata": {},
   "source": [
    "# Python Strings\n",
    "\n",
    "<p>\n",
    "a string is a sequence of characters. Strings are one of the fundamental data types, and they are used to represent and manipulate text. Strings in Python are immutable, meaning their values cannot be changed after they are created. Here are some key aspects of strings in Python:\n",
    "</p>"
   ]
  },
  {
   "cell_type": "code",
   "execution_count": 51,
   "id": "5ae63766",
   "metadata": {},
   "outputs": [
    {
     "name": "stdout",
     "output_type": "stream",
     "text": [
      "Hello, Python Developer!\n",
      "are you enjoy learnig Python?\n",
      "You will be surprised to know you can\n",
      "use string in multiple line in triple quoted string\n",
      "\n"
     ]
    }
   ],
   "source": [
    "# Creating String\n",
    "# You can create strings using single (' '), double (\" \"), or triple (''' ''' or \"\"\" \"\"\") quotes:\n",
    "\n",
    "single_quoted = 'Hello, Python Developer!'\n",
    "double_quoted = \"are you enjoy learnig Python?\"\n",
    "triple_quoted = '''You will be surprised to know you can\n",
    "use string in multiple line in triple quoted string\n",
    "'''\n",
    "\n",
    "print(single_quoted)\n",
    "print(double_quoted)\n",
    "print(triple_quoted)"
   ]
  },
  {
   "cell_type": "code",
   "execution_count": 52,
   "id": "3f70c14f",
   "metadata": {},
   "outputs": [
    {
     "name": "stdout",
     "output_type": "stream",
     "text": [
      "S u\n"
     ]
    }
   ],
   "source": [
    "# Accessing Characters\n",
    "\n",
    "name = \"Sheikh Muhamad Ashik\"\n",
    "first_character = name[0]\n",
    "nineth_character = name[8]\n",
    "\n",
    "print(first_character, nineth_character)"
   ]
  },
  {
   "cell_type": "code",
   "execution_count": 56,
   "id": "5a6373c4",
   "metadata": {},
   "outputs": [
    {
     "name": "stdout",
     "output_type": "stream",
     "text": [
      "Sheikh Mu\n"
     ]
    }
   ],
   "source": [
    "# String Slicing\n",
    "\n",
    "name = \"Sheikh Muhammad Ashik\"\n",
    "substring = name[0:9] # start point 0: end point 9\n",
    "print(substring)\n"
   ]
  },
  {
   "cell_type": "code",
   "execution_count": 58,
   "id": "b9f077e9",
   "metadata": {},
   "outputs": [
    {
     "name": "stdout",
     "output_type": "stream",
     "text": [
      "Sheikh_Muhammad_Ashik\n"
     ]
    }
   ],
   "source": [
    "# String Concatenation\n",
    "\n",
    "name1 = \"Sheikh\"\n",
    "name2 = \"Muhammad\"\n",
    "name3 = \"Ashik\"\n",
    "\n",
    "concatenation = name1+ \"_\" + name2+ \"_\" + name3\n",
    "print(concatenation)\n"
   ]
  },
  {
   "cell_type": "code",
   "execution_count": 60,
   "id": "ef179904",
   "metadata": {},
   "outputs": [
    {
     "name": "stdout",
     "output_type": "stream",
     "text": [
      "Sheikh Muhammad Ashik Sheikh Muhammad Ashik Sheikh Muhammad Ashik Sheikh Muhammad Ashik \n"
     ]
    }
   ],
   "source": [
    "# String Repetition\n",
    "name = \"Sheikh Muhammad Ashik \"\n",
    "repetition = name * 4 # 4 times repetition\n",
    "print(repetition)"
   ]
  },
  {
   "cell_type": "code",
   "execution_count": 63,
   "id": "7f3483d9",
   "metadata": {},
   "outputs": [],
   "source": [
    " #String Methods\n"
   ]
  },
  {
   "cell_type": "markdown",
   "id": "3befc3d9",
   "metadata": {},
   "source": [
    "<h3>String Method </h3>\n",
    "<br>\n",
    "Python provides a variety of built-in methods for working with strings. Some common methods include:\n",
    "\n",
    "<br>\n",
    "\n",
    "<b>len():<b> Returns the length of the string.\n",
    "<br>\n",
    "<b>lower(), upper():<b> Converts the string to lowercase or uppercase.\n",
    "<br>\n",
    "<b>strip():<b> Removes leading and trailing whitespaces.\n",
    "<br>\n",
    "<b>replace(old, new):</b> Replaces occurrences of a substring with another substring.\n",
    "<br>\n",
    "<b>split(delimiter):<b> Splits the string into a list of substrings based on a delimiter."
   ]
  },
  {
   "cell_type": "code",
   "execution_count": 74,
   "id": "acca22a1",
   "metadata": {},
   "outputs": [
    {
     "name": "stdout",
     "output_type": "stream",
     "text": [
      "total character is:  18\n",
      "python is awesome!\n",
      "PYTHON IS AWESOME!\n",
      "Python is awesome!\n",
      "['Python', 'is', 'awesome!']\n",
      "Python is populer programming Language\n"
     ]
    }
   ],
   "source": [
    "string = \"Python is awesome!\"\n",
    "\n",
    "length = len(string)\n",
    "\n",
    "uppercase_string = string.upper()\n",
    "lowercase_string = string.lower()\n",
    "strip_string = string.strip()\n",
    "replace_string = string.replace(\"Python is awesome!\", \"Python is populer programming Language\")\n",
    "split_string = string.split()\n",
    "\n",
    "print(\"total character is: \", length)\n",
    "print(lowercase_string)\n",
    "print(uppercase_string)\n",
    "print(strip_string)\n",
    "print(split_string)\n",
    "print(replace_string)\n"
   ]
  },
  {
   "cell_type": "markdown",
   "id": "2f866897",
   "metadata": {},
   "source": [
    "<b> String Formatting <b>\n",
    "<br>\n",
    "    \n",
    "Python supports different ways of formatting strings, including the % operator and the format() method. Additionally, f-strings (formatted string literals) were introduced in Python 3.6:"
   ]
  },
  {
   "cell_type": "code",
   "execution_count": 81,
   "id": "160cf287",
   "metadata": {},
   "outputs": [
    {
     "name": "stdout",
     "output_type": "stream",
     "text": [
      "My name is Sheikh Muhammad Ashik and I am 24 years old\n",
      "My name is Sheikh Muhammad Ashik and I am 24 years old\n",
      "My name is Sheikh Muhammad Ashik and I am 24 years old\n"
     ]
    }
   ],
   "source": [
    "#String Formatting\n",
    "\n",
    "name = \"Sheikh Muhammad Ashik\"\n",
    "age = 24\n",
    "department = \"Computer Science and Engineering\"\n",
    "\n",
    "# f_string = Formated String\n",
    "f_string1 = \"My name is %s and I am %d years old\" %(name, age)\n",
    "f_string2 = \"My name is {} and I am {} years old\".format(name, age)\n",
    "f_string3 = f\"My name is {name} and I am {age} years old\"\n",
    "print(f_string1)\n",
    "print(f_string2)\n",
    "print(f_string3)"
   ]
  },
  {
   "cell_type": "markdown",
   "id": "4c308cce",
   "metadata": {},
   "source": [
    " <b>Escape Characters<b>\n",
    "    <br>\n",
    "    \n",
    "Special characters in strings are often represented using escape characters, such as \\n for a newline or \\t for a tab:\n",
    "\n"
   ]
  },
  {
   "cell_type": "code",
   "execution_count": 82,
   "id": "d71e5bd2",
   "metadata": {},
   "outputs": [
    {
     "name": "stdout",
     "output_type": "stream",
     "text": [
      "Sheikh \n",
      "Muhammad\t Ashik\n"
     ]
    }
   ],
   "source": [
    "new_line = \"Sheikh \\nMuhammad\\t Ashik\"\n",
    "print(new_line)"
   ]
  },
  {
   "cell_type": "markdown",
   "id": "9ddc10c9",
   "metadata": {},
   "source": [
    "<b>String Immutability<b>\n",
    "    \n",
    "Strings in Python are immutable, meaning you cannot modify their individual characters. However, you can create new strings based on existing ones.\n",
    "\n",
    "\n"
   ]
  },
  {
   "cell_type": "code",
   "execution_count": 85,
   "id": "95023430",
   "metadata": {},
   "outputs": [
    {
     "name": "stdout",
     "output_type": "stream",
     "text": [
      "Nshik\n"
     ]
    }
   ],
   "source": [
    "string = \"Ashik\"\n",
    "Immutable_string = \"N\" + string[1:]\n",
    "print(Immutable_string)"
   ]
  },
  {
   "cell_type": "markdown",
   "id": "68b89ae1",
   "metadata": {},
   "source": [
    "# Conrtrol-Flow\n",
    "<br>\n",
    "\n",
    "<p>Control flow in Python refers to the order in which statements are executed based on certain conditions or loops. Python provides several control flow structures to help you control the flow of your program. Here are the main control flow structures in Python:</p>\n",
    "<br>\n"
   ]
  },
  {
   "cell_type": "markdown",
   "id": "09d260e9",
   "metadata": {},
   "source": [
    "<p>\n",
    "<b>Conditional Statements (if, elif, else):<b>\n",
    "\n",
    "1. The if statement is used to check a condition, and if it's true, the indented block of code following it is executed.\n",
    "<br>\n",
    "2. elif (else if) allows you to check multiple conditions if the previous ones are not true.\n",
    "<br>\n",
    "3. else is used to define a block of code to be executed if none of the conditions in the if or elif statements are true.\n",
    "</p>"
   ]
  },
  {
   "cell_type": "code",
   "execution_count": 1,
   "id": "8525e768",
   "metadata": {},
   "outputs": [
    {
     "name": "stdout",
     "output_type": "stream",
     "text": [
      "x is positive\n"
     ]
    }
   ],
   "source": [
    "# if, elif, else\n",
    "\n",
    "x = 50\n",
    "if x > 0:\n",
    "    print(\"x is positive\")\n",
    "elif(x == 0):\n",
    "    print(\"x  is zero\")\n",
    "else:\n",
    "    print(\"x is negative\")"
   ]
  },
  {
   "cell_type": "markdown",
   "id": "49d443c9",
   "metadata": {},
   "source": [
    "\n",
    "<b>Loops (for and while):<b>\n",
    "\n",
    "for loops iterate over a sequence (such as a list, tuple, or string) and execute a block of code for each item in the sequence.\n",
    "while loops continue to execute a block of code as long as a specified condition is true."
   ]
  },
  {
   "cell_type": "code",
   "execution_count": 4,
   "id": "6ede3916",
   "metadata": {},
   "outputs": [
    {
     "name": "stdout",
     "output_type": "stream",
     "text": [
      "0\n",
      "1\n",
      "2\n",
      "3\n",
      "4\n"
     ]
    }
   ],
   "source": [
    "# For loop\n",
    "\n",
    "for i in range(5):\n",
    "    print(i)"
   ]
  },
  {
   "cell_type": "code",
   "execution_count": null,
   "id": "264a6608",
   "metadata": {},
   "outputs": [],
   "source": [
    "# While\n",
    "\n",
    "count = 0\n",
    "while count < 5:\n",
    "    print(count)\n",
    "    count += 1"
   ]
  },
  {
   "cell_type": "markdown",
   "id": "f1859ce8",
   "metadata": {},
   "source": [
    "<b>Break and Continue Statements:<b>\n",
    "<br>\n",
    "\n",
    "break is used to exit a loop prematurely.\n",
    "continue is used to skip the rest of the code inside a loop for the current iteration and move to the next iteration."
   ]
  },
  {
   "cell_type": "code",
   "execution_count": 10,
   "id": "fcf122bc",
   "metadata": {},
   "outputs": [
    {
     "name": "stdout",
     "output_type": "stream",
     "text": [
      "0\n",
      "1\n",
      "2\n",
      "3\n",
      "4\n",
      "\n",
      "0\n",
      "1\n",
      "2\n",
      "3\n",
      "4\n",
      "6\n",
      "7\n",
      "8\n",
      "9\n",
      "10\n",
      "11\n",
      "12\n",
      "13\n",
      "14\n"
     ]
    }
   ],
   "source": [
    "for i in range(15):\n",
    "    if i == 5:\n",
    "        break\n",
    "    print(i)\n",
    "print()\n",
    "\n",
    "for i in range(15):\n",
    "    if i == 5:\n",
    "        continue\n",
    "    print(i)"
   ]
  },
  {
   "cell_type": "markdown",
   "id": "51a08b59",
   "metadata": {},
   "source": [
    "<b>Exception Handling (try, except, finally):<b>\n",
    "<br>\n",
    "\n",
    "try is used to wrap a block of code that might raise an exception.\n",
    "except is used to handle specific exceptions that might occur within the try block.\n",
    "finally is used to define a block of code that will be executed no matter what, whether an exception occurred or not."
   ]
  },
  {
   "cell_type": "code",
   "execution_count": 11,
   "id": "e7b4c8bf",
   "metadata": {},
   "outputs": [
    {
     "name": "stdout",
     "output_type": "stream",
     "text": [
      "Cannot divide by zero\n",
      "This will executed regardless of an exception\n"
     ]
    }
   ],
   "source": [
    "try:\n",
    "    result = 10/0\n",
    "except ZeroDivisionError:\n",
    "    print(\"Cannot divide by zero\")\n",
    "finally:\n",
    "    print(\"This will executed regardless of an exception\")"
   ]
  },
  {
   "cell_type": "markdown",
   "id": "e7cb7f7b",
   "metadata": {},
   "source": [
    "# User Input\n",
    "<p>\n",
    "\n",
    "In Python, you can use the input() function to read user input from the console. The input() function takes a string as an argument (the prompt message), displays it to the user, and then waits for the user to enter some text. Here's a simple example:\n",
    "</p>"
   ]
  },
  {
   "cell_type": "code",
   "execution_count": 15,
   "id": "1e425d2c",
   "metadata": {},
   "outputs": [
    {
     "name": "stdout",
     "output_type": "stream",
     "text": [
      "Enter Your name: Ashik\n",
      "Enter your age: 24\n",
      "Ashik 24\n"
     ]
    }
   ],
   "source": [
    "# User Input\n",
    "name = input(\"Enter Your name: \")  # String Input\n",
    "age = int(input(\"Enter your age: \")) # Integer Input\n",
    "\n",
    "print(name, str(age))"
   ]
  },
  {
   "cell_type": "markdown",
   "id": "4372ccac",
   "metadata": {},
   "source": [
    "# Comments\n"
   ]
  },
  {
   "cell_type": "code",
   "execution_count": 6,
   "id": "e5eabf4f",
   "metadata": {},
   "outputs": [
    {
     "name": "stdout",
     "output_type": "stream",
     "text": [
      "hello\n"
     ]
    }
   ],
   "source": [
    "# here is a single line comment\n",
    "\n",
    "'''\n",
    "here is \n",
    "a multiple\n",
    "line comment\n",
    "'''\n",
    "\n",
    "print(\"hello\")"
   ]
  },
  {
   "cell_type": "markdown",
   "id": "6cb1a5b2",
   "metadata": {},
   "source": [
    "# Loops\n",
    "<p>\n",
    "    Loops in Python are control flow structures that allow you to execute a block of code repeatedly. Python provides two main types of loops: for and while. Let's explore each of them:\n",
    "</p>"
   ]
  },
  {
   "cell_type": "code",
   "execution_count": 7,
   "id": "89b9ac0c",
   "metadata": {},
   "outputs": [],
   "source": [
    "#for variable in sequence:\n",
    "    # Code to be executed for each item in the sequence\n"
   ]
  },
  {
   "cell_type": "code",
   "execution_count": null,
   "id": "2a03fce1",
   "metadata": {},
   "outputs": [],
   "source": [
    "names = [\"Sheikh\", \"Muhammad\", \"Ashik\"]\n",
    "for i in names:\n",
    "    print(i)"
   ]
  },
  {
   "cell_type": "code",
   "execution_count": 1,
   "id": "18726160",
   "metadata": {},
   "outputs": [
    {
     "name": "stdout",
     "output_type": "stream",
     "text": [
      "0\n",
      "1\n",
      "2\n",
      "3\n",
      "4\n"
     ]
    }
   ],
   "source": [
    "# While Loop\n",
    "\n",
    "count = 0\n",
    "while(count < 5):\n",
    "    print(count)\n",
    "    count += 1"
   ]
  },
  {
   "cell_type": "code",
   "execution_count": 2,
   "id": "0b45916d",
   "metadata": {},
   "outputs": [
    {
     "name": "stdout",
     "output_type": "stream",
     "text": [
      "0\n",
      "1\n",
      "2\n"
     ]
    }
   ],
   "source": [
    "# Using break to exit the loop when reaching 3\n",
    "for i in range(5):\n",
    "    if i == 3:\n",
    "        break\n",
    "    print(i)\n"
   ]
  },
  {
   "cell_type": "code",
   "execution_count": 3,
   "id": "d0f00bf4",
   "metadata": {},
   "outputs": [
    {
     "name": "stdout",
     "output_type": "stream",
     "text": [
      "0\n",
      "1\n",
      "2\n",
      "4\n"
     ]
    }
   ],
   "source": [
    "# Using continue to skip printing 3\n",
    "for i in range(5):\n",
    "    if i == 3:\n",
    "        continue\n",
    "    print(i)\n"
   ]
  },
  {
   "cell_type": "markdown",
   "id": "3b2de600",
   "metadata": {},
   "source": [
    "# List in Python\n",
    "<p>\n",
    " a list is a built-in data type used to store an ordered collection of items. Lists are versatile and can hold elements of different data types, including numbers, strings, and even other lists. Lists are mutable, meaning you can modify their contents by adding or removing elements. Here's a basic overview of lists in Python:\n",
    "</p>"
   ]
  },
  {
   "cell_type": "code",
   "execution_count": 17,
   "id": "89acd67b",
   "metadata": {},
   "outputs": [
    {
     "name": "stdout",
     "output_type": "stream",
     "text": [
      "[1, 2, 3, 4, 5, 'Sheikh', 'Muhammad', 'Ashik']\n"
     ]
    }
   ],
   "source": [
    "# Creating List in python\n",
    "\n",
    "list = [1, 2, 3, 4, 5, 'Sheikh', 'Muhammad', 'Ashik']\n",
    "print(list)"
   ]
  },
  {
   "cell_type": "code",
   "execution_count": 18,
   "id": "3b390471",
   "metadata": {},
   "outputs": [
    {
     "name": "stdout",
     "output_type": "stream",
     "text": [
      "1\n",
      "Ashik\n",
      "Muhammad\n"
     ]
    }
   ],
   "source": [
    "# Accessing Elements\n",
    "print(list[0]) # Output: 1\n",
    "print(list[7]) # Output: Ashik\n",
    "print(list[-2]) # Output: Muhammad\n"
   ]
  },
  {
   "cell_type": "code",
   "execution_count": 19,
   "id": "13ab2518",
   "metadata": {},
   "outputs": [
    {
     "name": "stdout",
     "output_type": "stream",
     "text": [
      "[2, 3, 4]\n"
     ]
    }
   ],
   "source": [
    "# Slicing Lists\n",
    "\n",
    "print(list[1:4]) # Output: [2, 3, '4'] (from index 1 to 3, excluding 4)"
   ]
  },
  {
   "cell_type": "code",
   "execution_count": 20,
   "id": "8d3ffc58",
   "metadata": {},
   "outputs": [
    {
     "name": "stdout",
     "output_type": "stream",
     "text": [
      "[1, 2, 'Programming', 'Python', 4, 'Sheikh', 'Muhammad', 'Ashik', 4]\n"
     ]
    }
   ],
   "source": [
    "# Modifying List\n",
    "\n",
    "list[2] = \"Python\"\n",
    "list.append(4)\n",
    "list.insert(2, 'Programming')\n",
    "list.remove(5)\n",
    "\n",
    "print(list)"
   ]
  },
  {
   "cell_type": "markdown",
   "id": "afbd0bf4",
   "metadata": {},
   "source": [
    "<h3>List Operation</h3>\n",
    "\n",
    "<p>Lists support various operations, such as concatenation (+), repetition (*), and checking membership (in).\n",
    "\n",
    "</p>"
   ]
  },
  {
   "cell_type": "code",
   "execution_count": 23,
   "id": "d517dbb8",
   "metadata": {},
   "outputs": [
    {
     "name": "stdout",
     "output_type": "stream",
     "text": [
      "[1, 5, 7, 'Sheikh', 'Muhammad', 'Ashik']\n",
      "[1, 5, 7, 1, 5, 7]\n",
      "False\n"
     ]
    }
   ],
   "source": [
    "list1 = [1, 5, 7]\n",
    "list2 = [\"Sheikh\", \"Muhammad\", \"Ashik\"]\n",
    "\n",
    "connect_list = list1 + list2\n",
    "repeated_list = list1 * 2\n",
    "check_membership = 'Python' in list2\n",
    "\n",
    "print(connect_list)\n",
    "print(repeated_list)\n",
    "print(check_membership)"
   ]
  },
  {
   "cell_type": "markdown",
   "id": "5253eaca",
   "metadata": {},
   "source": [
    "<h3>List Methods</h3>\n",
    "Lists have built-in methods for various operations, such as sorting, reversing, finding the length, and more."
   ]
  },
  {
   "cell_type": "code",
   "execution_count": 25,
   "id": "902ee9d7",
   "metadata": {},
   "outputs": [
    {
     "name": "stdout",
     "output_type": "stream",
     "text": [
      "None\n",
      "None\n",
      "8\n"
     ]
    }
   ],
   "source": [
    "numbers = [9, 5, 6, 2, 1, 3, 0, 4]\n",
    "n1 = numbers.sort()\n",
    "n2 = numbers.reverse()\n",
    "length = len(numbers)\n",
    "\n",
    "print(n1)\n",
    "print(n2)\n",
    "print(length)"
   ]
  },
  {
   "cell_type": "markdown",
   "id": "6a07c9e8",
   "metadata": {},
   "source": [
    "<h3>List Comprehensions:</h3>\n",
    "\n",
    "List comprehensions provide a concise way to create lists."
   ]
  },
  {
   "cell_type": "code",
   "execution_count": 26,
   "id": "e2fc6188",
   "metadata": {},
   "outputs": [
    {
     "name": "stdout",
     "output_type": "stream",
     "text": [
      "[0, 1, 4, 9, 16]\n"
     ]
    }
   ],
   "source": [
    "squares = [x**2 for x in range(5)]\n",
    "print(squares)"
   ]
  },
  {
   "cell_type": "markdown",
   "id": "49721af4",
   "metadata": {},
   "source": [
    "# Tuples\n",
    "\n",
    "In Python, a tuple is a built-in data type similar to a list, but with a few key differences. A tuple is an ordered, immutable collection of elements. Once a tuple is created, its elements cannot be modified or changed. Tuples are created by enclosing a sequence of elements within parentheses () and separating them with commas. Here's an overview of tuples in Python:\n",
    "\n",
    "<b>You can create a tuple by enclosing a sequence of elements within parentheses ().<b>"
   ]
  },
  {
   "cell_type": "code",
   "execution_count": 35,
   "id": "6c7a3191",
   "metadata": {},
   "outputs": [
    {
     "name": "stdout",
     "output_type": "stream",
     "text": [
      "(1, 2, 'Ashik', 'Python')\n"
     ]
    }
   ],
   "source": [
    "tuple1 = (1, 2, \"Ashik\", \"Python\")\n",
    "print(tuple)"
   ]
  },
  {
   "cell_type": "code",
   "execution_count": 36,
   "id": "a00a2636",
   "metadata": {},
   "outputs": [
    {
     "name": "stdout",
     "output_type": "stream",
     "text": [
      "1\n",
      "Ashik\n",
      "Python\n"
     ]
    }
   ],
   "source": [
    "# Accessing Tuple\n",
    "\n",
    "print(tuple1[0])  # Output: 1\n",
    "print(tuple1[2])  # Output: 'Ashik'\n",
    "print(tuple1[-1]) # Output: Python (negative index refers to elements from the end)\n"
   ]
  },
  {
   "cell_type": "code",
   "execution_count": 37,
   "id": "f94a6c1c",
   "metadata": {},
   "outputs": [
    {
     "name": "stdout",
     "output_type": "stream",
     "text": [
      "(2, 'Ashik')\n"
     ]
    }
   ],
   "source": [
    "# Slicing Tuples\n",
    "\n",
    "print(tuple1[1:3]) # print index 1 to 2"
   ]
  },
  {
   "cell_type": "markdown",
   "id": "73ea61c2",
   "metadata": {},
   "source": [
    "<b>Immutable Nature:<b>\n",
    "    \n",
    "Unlike lists, tuples are immutable. Once a tuple is created, you cannot change, add, or remove elements from it."
   ]
  },
  {
   "cell_type": "code",
   "execution_count": 38,
   "id": "f4424166",
   "metadata": {},
   "outputs": [
    {
     "ename": "TypeError",
     "evalue": "'tuple' object does not support item assignment",
     "output_type": "error",
     "traceback": [
      "\u001b[1;31m---------------------------------------------------------------------------\u001b[0m",
      "\u001b[1;31mTypeError\u001b[0m                                 Traceback (most recent call last)",
      "Cell \u001b[1;32mIn[38], line 1\u001b[0m\n\u001b[1;32m----> 1\u001b[0m tuple1[\u001b[38;5;241m2\u001b[39m] \u001b[38;5;241m=\u001b[39m \u001b[38;5;124m\"\u001b[39m\u001b[38;5;124mSheikh\u001b[39m\u001b[38;5;124m\"\u001b[39m\n\u001b[0;32m      2\u001b[0m \u001b[38;5;28mprint\u001b[39m(\u001b[38;5;28mtuple\u001b[39m)\n",
      "\u001b[1;31mTypeError\u001b[0m: 'tuple' object does not support item assignment"
     ]
    }
   ],
   "source": [
    "tuple1[2] = \"Sheikh\"\n",
    "print(tuple)\n",
    "\n",
    "# TypeError: 'tuple' object does not support item assignment\n"
   ]
  },
  {
   "cell_type": "markdown",
   "id": "74db1ca6",
   "metadata": {},
   "source": [
    "Common Use Cases:\n",
    "Tuples are often used to represent records or collections of related data.\n",
    "They are used in functions that return multiple values.\n",
    "Tuples can be used as keys in dictionaries (since they are immutable).\n",
    "\n",
    "When to Use Tuples:\n",
    "Use tuples when you have a collection of items that should remain constant throughout the program.\n",
    "Use tuples for heterogeneous data (mix of different data types).\n",
    "Use tuples for read-only data."
   ]
  },
  {
   "cell_type": "markdown",
   "id": "75930f60",
   "metadata": {},
   "source": [
    "# Dictionary in Python"
   ]
  },
  {
   "cell_type": "markdown",
   "id": "ce717e51",
   "metadata": {},
   "source": [
    "dictionary is a built-in data type that represents a collection of key-value pairs. It is an unordered and mutable collection, meaning that the elements can be modified, and there is no specific order maintained among the elements. Dictionaries are implemented as hash tables, making them efficient for lookups and retrievals. Here's an overview of dictionaries in Python:\n",
    "\n",
    "Creating a Dictionary:\n",
    "A dictionary is created by placing a comma-separated list of key-value pairs within curly braces {}."
   ]
  },
  {
   "cell_type": "code",
   "execution_count": 57,
   "id": "6769061d",
   "metadata": {},
   "outputs": [
    {
     "name": "stdout",
     "output_type": "stream",
     "text": [
      "{'name': 'Ashik', 'age': 24, 'city': 'Dhaka'}\n"
     ]
    }
   ],
   "source": [
    "# Create Dictionary\n",
    "dictionary = {'name' : \"Ashik\", 'age' : 24, 'city' : \"Dhaka\"}\n",
    "print(dictionary)"
   ]
  },
  {
   "cell_type": "code",
   "execution_count": 58,
   "id": "41971fde",
   "metadata": {},
   "outputs": [
    {
     "name": "stdout",
     "output_type": "stream",
     "text": [
      "Ashik\n",
      "24\n"
     ]
    }
   ],
   "source": [
    "# Accessing Values\n",
    "\n",
    "print(dictionary['name'])\n",
    "print(dictionary['age'])"
   ]
  },
  {
   "cell_type": "code",
   "execution_count": 59,
   "id": "bf207bd5",
   "metadata": {},
   "outputs": [
    {
     "name": "stdout",
     "output_type": "stream",
     "text": [
      "{'name': 'Ashik', 'age': 45, 'city': 'Dhaka', 'occupation': 'Senior Software Engineer'}\n"
     ]
    }
   ],
   "source": [
    "# Modifying dictionary \n",
    "\n",
    "dictionary['age'] = 45\n",
    "dictionary['occupation'] = \"Senior Software Engineer\"\n",
    "\n",
    "print(dictionary)"
   ]
  },
  {
   "cell_type": "code",
   "execution_count": 60,
   "id": "1ae91049",
   "metadata": {},
   "outputs": [
    {
     "name": "stdout",
     "output_type": "stream",
     "text": [
      "{'name': 'Ashik', 'age': 45, 'occupation': 'Senior Software Engineer'}\n"
     ]
    }
   ],
   "source": [
    "# Removing Item from dictionary\n",
    "\n",
    "del dictionary['city'] #remove items from a dictionary using the del keyword.\n",
    "print(dictionary)"
   ]
  },
  {
   "cell_type": "markdown",
   "id": "c61fa48e",
   "metadata": {},
   "source": [
    "<b>Dictionary Methods:<b>\n",
    "\n",
    "Dictionaries have built-in methods for various operations, such as getting keys, values, items, and more."
   ]
  },
  {
   "cell_type": "code",
   "execution_count": 61,
   "id": "4314fdb2",
   "metadata": {},
   "outputs": [
    {
     "name": "stdout",
     "output_type": "stream",
     "text": [
      "dict_keys(['name', 'age', 'occupation'])\n",
      "dict_values(['Ashik', 45, 'Senior Software Engineer'])\n",
      "dict_items([('name', 'Ashik'), ('age', 45), ('occupation', 'Senior Software Engineer')])\n"
     ]
    }
   ],
   "source": [
    "keys = dictionary.keys()\n",
    "values = dictionary.values()\n",
    "items = dictionary.items()\n",
    "\n",
    "print(keys)\n",
    "print(values)\n",
    "print(items)"
   ]
  },
  {
   "cell_type": "code",
   "execution_count": 62,
   "id": "af0e254c",
   "metadata": {},
   "outputs": [
    {
     "name": "stdout",
     "output_type": "stream",
     "text": [
      "{0: 0, 1: 1, 2: 4, 3: 9, 4: 16}\n"
     ]
    }
   ],
   "source": [
    "# Dictionary Comprehensions\n",
    "\n",
    "# Like lists, dictionaries also support comprehensions for concise creation.\n",
    "\n",
    "square = {x: x**2 for x in range(5)}\n",
    "print(square)"
   ]
  },
  {
   "cell_type": "code",
   "execution_count": 68,
   "id": "c94be004",
   "metadata": {},
   "outputs": [
    {
     "name": "stdout",
     "output_type": "stream",
     "text": [
      "{'person': {'name': 'Ashik', 'age': 24}}\n"
     ]
    }
   ],
   "source": [
    "# Nested Dictonary\n",
    "# Dictionaries can contain other dictionaries as values, creating nested structures.\n",
    "\n",
    "nested_dictionary ={'person' : { 'name' : 'Ashik', 'age' : 24}}\n",
    "print(nested_dictionary)"
   ]
  },
  {
   "cell_type": "markdown",
   "id": "ff90c0ba",
   "metadata": {},
   "source": [
    "# Python Function"
   ]
  },
  {
   "cell_type": "markdown",
   "id": "137c81f4",
   "metadata": {},
   "source": [
    "a function is a block of organized, reusable code that performs a specific task. Functions provide modularity and help in code reusability. They allow you to break down a program into smaller, manageable pieces, making it easier to understand, debug, and maintain. Here's an overview of functions in Python:\n",
    "\n",
    "<b>Defining a Function:<b>\n",
    "    \n",
    "In Python, you can define a function using the def keyword, followed by the function name, a pair of parentheses (), and a colon :. The code block that follows the colon is the body of the function."
   ]
  },
  {
   "cell_type": "code",
   "execution_count": 71,
   "id": "fbf78eda",
   "metadata": {},
   "outputs": [],
   "source": [
    "# Syntax\n",
    "\n",
    "def function_name(parameters):\n",
    "    # Function Body\n",
    "    # Code to perform a specific task\n",
    "    return result # optional: return statement"
   ]
  },
  {
   "cell_type": "code",
   "execution_count": 75,
   "id": "a3e014c6",
   "metadata": {},
   "outputs": [
    {
     "name": "stdout",
     "output_type": "stream",
     "text": [
      "Hello, Ashik!\n"
     ]
    }
   ],
   "source": [
    "def greet(name):\n",
    "    print(\"Hello, \" + name + \"!\")\n",
    "    \n",
    "greet(\"Ashik\")"
   ]
  },
  {
   "cell_type": "markdown",
   "id": "1c68d2f7",
   "metadata": {},
   "source": [
    "<b>Parameters and Arguments:<b>\n",
    "    \n",
    "Parameters are variables that are defined in the function signature and act as placeholders for the values that will be passed to the function. Arguments are the actual values passed to the function when it is called."
   ]
  },
  {
   "cell_type": "code",
   "execution_count": 79,
   "id": "3ea184f9",
   "metadata": {},
   "outputs": [
    {
     "name": "stdout",
     "output_type": "stream",
     "text": [
      "8\n"
     ]
    }
   ],
   "source": [
    "def add_num(x, y):\n",
    "    total = x + y\n",
    "    return total\n",
    "\n",
    "result = add_num(5,3)\n",
    "print(result)"
   ]
  },
  {
   "cell_type": "markdown",
   "id": "fe12dc47",
   "metadata": {},
   "source": [
    "<b>Return Statement:<b>\n",
    "    \n",
    "A function can optionally return a value using the return statement. The returned value can be assigned to a variable or used directly in the calling code.\n",
    "\n"
   ]
  },
  {
   "cell_type": "code",
   "execution_count": 81,
   "id": "9dd099fc",
   "metadata": {},
   "outputs": [
    {
     "name": "stdout",
     "output_type": "stream",
     "text": [
      "9\n"
     ]
    }
   ],
   "source": [
    "def square(x):\n",
    "    return x**2\n",
    "result = square(3)\n",
    "print(result)"
   ]
  },
  {
   "cell_type": "markdown",
   "id": "11cb00ba",
   "metadata": {},
   "source": [
    "<b>Default Parameters:<b>\n",
    "    \n",
    "You can provide default values for parameters in a function. If a value is not provided when calling the function, the default value is used."
   ]
  },
  {
   "cell_type": "code",
   "execution_count": 83,
   "id": "9c65f6d4",
   "metadata": {},
   "outputs": [
    {
     "name": "stdout",
     "output_type": "stream",
     "text": [
      "4\n",
      "16\n"
     ]
    }
   ],
   "source": [
    "def power(base, exponent = 2):\n",
    "    return base ** exponent\n",
    "\n",
    "result1 = power(2)\n",
    "result2 = power(4)\n",
    "\n",
    "print(result1)\n",
    "print(result2)"
   ]
  },
  {
   "cell_type": "markdown",
   "id": "b43da612",
   "metadata": {},
   "source": [
    "<b>Variable Number of Arguments:<b>\n",
    "    \n",
    "You can define functions that accept a variable number of arguments using *args (for positional arguments) and **kwargs (for keyword arguments)."
   ]
  },
  {
   "cell_type": "code",
   "execution_count": 84,
   "id": "1e6af704",
   "metadata": {},
   "outputs": [
    {
     "name": "stdout",
     "output_type": "stream",
     "text": [
      "Positional arguments:  (1, 2, 3)\n",
      "Keyword arguments:  {'name': 'Ashik', 'age': 24}\n"
     ]
    }
   ],
   "source": [
    "def print_arguments(*args, **kwargs):\n",
    "    print(\"Positional arguments: \", args)\n",
    "    print(\"Keyword arguments: \", kwargs)\n",
    "    \n",
    "print_arguments(1, 2, 3, name=\"Ashik\", age=24)"
   ]
  }
 ],
 "metadata": {
  "kernelspec": {
   "display_name": "Python 3 (ipykernel)",
   "language": "python",
   "name": "python3"
  },
  "language_info": {
   "codemirror_mode": {
    "name": "ipython",
    "version": 3
   },
   "file_extension": ".py",
   "mimetype": "text/x-python",
   "name": "python",
   "nbconvert_exporter": "python",
   "pygments_lexer": "ipython3",
   "version": "3.11.5"
  }
 },
 "nbformat": 4,
 "nbformat_minor": 5
}
